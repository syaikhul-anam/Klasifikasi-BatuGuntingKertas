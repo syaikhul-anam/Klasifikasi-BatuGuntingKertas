{
  "nbformat": 4,
  "nbformat_minor": 0,
  "metadata": {
    "colab": {
      "name": "Submission-Dicoding.ipynb",
      "provenance": [],
      "authorship_tag": "ABX9TyNepatkGQk0HLxMiqV/LIVx",
      "include_colab_link": true
    },
    "kernelspec": {
      "display_name": "Python 3",
      "name": "python3"
    },
    "language_info": {
      "name": "python"
    }
  },
  "cells": [
    {
      "cell_type": "markdown",
      "metadata": {
        "id": "view-in-github",
        "colab_type": "text"
      },
      "source": [
        "<a href=\"https://colab.research.google.com/github/syaikhul-anam/Klasifikasi-BatuGuntingKertas/blob/main/Submission_Dicoding.ipynb\" target=\"_parent\"><img src=\"https://colab.research.google.com/assets/colab-badge.svg\" alt=\"Open In Colab\"/></a>"
      ]
    },
    {
      "cell_type": "code",
      "metadata": {
        "id": "I4cQwYl5LOfT"
      },
      "source": [
        "#import library for image classification\n",
        "import tensorflow as tf\n",
        "from tensorflow.keras.optimizers import RMSprop\n",
        "from tensorflow.keras.preprocessing.image import ImageDataGenerator"
      ],
      "execution_count": null,
      "outputs": []
    },
    {
      "cell_type": "code",
      "metadata": {
        "colab": {
          "base_uri": "https://localhost:8080/"
        },
        "id": "MC-dftSpNP48",
        "outputId": "4c896b62-62a3-4b71-8733-007e6c18d23d"
      },
      "source": [
        "# zip file\n",
        "!wget --no-check-certificate \\\n",
        "https://dicodingacademy.blob.core.windows.net/picodiploma/ml_pemula_academy/rockpaperscissors.zip \\\n",
        "  -O /tmp/rockpaperscissors.zip"
      ],
      "execution_count": null,
      "outputs": [
        {
          "output_type": "stream",
          "text": [
            "--2021-06-17 02:32:13--  https://dicodingacademy.blob.core.windows.net/picodiploma/ml_pemula_academy/rockpaperscissors.zip\n",
            "Resolving dicodingacademy.blob.core.windows.net (dicodingacademy.blob.core.windows.net)... 52.239.197.36\n",
            "Connecting to dicodingacademy.blob.core.windows.net (dicodingacademy.blob.core.windows.net)|52.239.197.36|:443... connected.\n",
            "HTTP request sent, awaiting response... 200 OK\n",
            "Length: 322873683 (308M) [application/zip]\n",
            "Saving to: ‘/tmp/rockpaperscissors.zip’\n",
            "\n",
            "/tmp/rockpapersciss 100%[===================>] 307.92M  7.62MB/s    in 55s     \n",
            "\n",
            "2021-06-17 02:33:09 (5.56 MB/s) - ‘/tmp/rockpaperscissors.zip’ saved [322873683/322873683]\n",
            "\n"
          ],
          "name": "stdout"
        }
      ]
    },
    {
      "cell_type": "code",
      "metadata": {
        "id": "3CgmWmRyOdoP"
      },
      "source": [
        "#extraction of the zip file\n",
        "import zipfile, os\n",
        "local_zip = '/tmp/rockpaperscissors.zip'\n",
        "zip_ref = zipfile.ZipFile(local_zip,'r')\n",
        "zip_ref.extractall('/tmp')\n",
        "zip_ref.close()\n",
        "\n",
        "#deklarasi variabel\n",
        "base_dir = '/tmp/rockpaperscissors/rps-cv-images'\n",
        "batch_size = 32\n",
        "img_width, img_height = 150,150"
      ],
      "execution_count": null,
      "outputs": []
    },
    {
      "cell_type": "code",
      "metadata": {
        "colab": {
          "base_uri": "https://localhost:8080/"
        },
        "id": "HqiYVrizO_0Q",
        "outputId": "551f97ab-4bc7-4919-f8cf-68b7ce29061a"
      },
      "source": [
        "#check file\n",
        "os.listdir(base_dir)"
      ],
      "execution_count": null,
      "outputs": [
        {
          "output_type": "execute_result",
          "data": {
            "text/plain": [
              "['README_rpc-cv-images.txt', 'paper', 'rock', 'scissors']"
            ]
          },
          "metadata": {
            "tags": []
          },
          "execution_count": 4
        }
      ]
    },
    {
      "cell_type": "code",
      "metadata": {
        "colab": {
          "base_uri": "https://localhost:8080/"
        },
        "id": "5Q0pRgrHVwPg",
        "outputId": "bdb97085-1e98-4877-a2cc-cc8b58069308"
      },
      "source": [
        "#create image data generator\n",
        "train_datagen = ImageDataGenerator(\n",
        "    rescale=1./255,\n",
        "    rotation_range=20,\n",
        "    horizontal_flip=True,\n",
        "    shear_range=0.2,\n",
        "    fill_mode='wrap',\n",
        "    validation_split=0.4\n",
        ")\n",
        "\n",
        "train_generator = train_datagen.flow_from_directory(\n",
        "    base_dir,\n",
        "    target_size=(img_width,img_height),\n",
        "    shuffle=True,\n",
        "    batch_size = batch_size,\n",
        "    subset='training',\n",
        "    class_mode = 'categorical'\n",
        ")\n",
        "\n",
        "validation_generator = train_datagen.flow_from_directory(\n",
        "    base_dir,\n",
        "    target_size=(img_width,img_height),\n",
        "    shuffle=True,\n",
        "    batch_size = batch_size,\n",
        "    subset='validation',\n",
        "    class_mode = 'categorical'\n",
        ")"
      ],
      "execution_count": null,
      "outputs": [
        {
          "output_type": "stream",
          "text": [
            "Found 1314 images belonging to 3 classes.\n",
            "Found 874 images belonging to 3 classes.\n"
          ],
          "name": "stdout"
        }
      ]
    },
    {
      "cell_type": "code",
      "metadata": {
        "id": "se_0E9VkZ-ri"
      },
      "source": [
        "#create model\n",
        "model = tf.keras.models.Sequential([\n",
        "  tf.keras.layers.Conv2D(32, (3,3), activation = 'relu', input_shape= (150,150,3)),\n",
        "  tf.keras.layers.MaxPooling2D(2,2),\n",
        "  tf.keras.layers.Conv2D(64,(3,3), activation= 'relu'),\n",
        "  tf.keras.layers.MaxPooling2D(2,2),\n",
        "  tf.keras.layers.Conv2D(128,(3,3), activation= 'relu'),\n",
        "  tf.keras.layers.MaxPooling2D(2,2),\n",
        "  tf.keras.layers.Conv2D(256,(3,3), activation= 'relu'),\n",
        "  tf.keras.layers.MaxPooling2D(2,2),\n",
        "  tf.keras.layers.Flatten(),\n",
        "  tf.keras.layers.Dense(512, activation= 'relu'),\n",
        "  tf.keras.layers.Dense(512, activation= 'relu'),\n",
        "  tf.keras.layers.Dropout(0.4),\n",
        "  tf.keras.layers.Dense(3, activation= 'softmax')\n",
        "])"
      ],
      "execution_count": null,
      "outputs": []
    },
    {
      "cell_type": "code",
      "metadata": {
        "id": "JWNq7SuzcVeU"
      },
      "source": [
        "model.compile(loss = 'categorical_crossentropy',\n",
        "              optimizer = RMSprop(),\n",
        "              metrics=['accuracy'])"
      ],
      "execution_count": null,
      "outputs": []
    },
    {
      "cell_type": "code",
      "metadata": {
        "colab": {
          "base_uri": "https://localhost:8080/"
        },
        "id": "CfNS-C6ickEb",
        "outputId": "0e551dbb-26cd-440d-bc1e-6dc01e0fd72b"
      },
      "source": [
        "from keras.callbacks import History\n",
        "history = History()\n",
        "\n",
        "model.fit(\n",
        "    train_generator,\n",
        "    steps_per_epoch = len(train_generator),\n",
        "    epochs = 50,\n",
        "    callbacks=[history],\n",
        "    validation_data = validation_generator,\n",
        "    validation_steps = 25,\n",
        "    verbose =2\n",
        ")"
      ],
      "execution_count": null,
      "outputs": [
        {
          "output_type": "stream",
          "text": [
            "Epoch 1/20\n",
            "25/25 - 42s - loss: 1.0504 - accuracy: 0.4104 - val_loss: 0.8343 - val_accuracy: 0.5938\n",
            "Epoch 2/20\n",
            "25/25 - 42s - loss: 0.5599 - accuracy: 0.7725 - val_loss: 0.3547 - val_accuracy: 0.8594\n",
            "Epoch 3/20\n",
            "25/25 - 42s - loss: 0.2746 - accuracy: 0.8963 - val_loss: 0.2558 - val_accuracy: 0.9062\n",
            "Epoch 4/20\n",
            "25/25 - 41s - loss: 0.2432 - accuracy: 0.9130 - val_loss: 0.3488 - val_accuracy: 0.8984\n",
            "Epoch 5/20\n",
            "25/25 - 41s - loss: 0.3221 - accuracy: 0.8935 - val_loss: 0.2424 - val_accuracy: 0.9375\n",
            "Epoch 6/20\n",
            "25/25 - 41s - loss: 0.1460 - accuracy: 0.9494 - val_loss: 0.2438 - val_accuracy: 0.8984\n",
            "Epoch 7/20\n",
            "25/25 - 40s - loss: 0.1709 - accuracy: 0.9506 - val_loss: 0.1246 - val_accuracy: 0.9609\n",
            "Epoch 8/20\n",
            "25/25 - 42s - loss: 0.1358 - accuracy: 0.9575 - val_loss: 0.1537 - val_accuracy: 0.9766\n",
            "Epoch 9/20\n",
            "25/25 - 40s - loss: 0.1347 - accuracy: 0.9532 - val_loss: 0.1411 - val_accuracy: 0.9531\n",
            "Epoch 10/20\n",
            "25/25 - 40s - loss: 0.1110 - accuracy: 0.9662 - val_loss: 0.1184 - val_accuracy: 0.9609\n",
            "Epoch 11/20\n",
            "25/25 - 40s - loss: 0.1181 - accuracy: 0.9662 - val_loss: 0.2100 - val_accuracy: 0.9375\n",
            "Epoch 12/20\n",
            "25/25 - 41s - loss: 0.1017 - accuracy: 0.9636 - val_loss: 0.2121 - val_accuracy: 0.9531\n",
            "Epoch 13/20\n",
            "25/25 - 40s - loss: 0.1564 - accuracy: 0.9481 - val_loss: 0.0975 - val_accuracy: 0.9688\n",
            "Epoch 14/20\n",
            "25/25 - 42s - loss: 0.0942 - accuracy: 0.9737 - val_loss: 0.1549 - val_accuracy: 0.9688\n",
            "Epoch 15/20\n",
            "25/25 - 42s - loss: 0.0580 - accuracy: 0.9787 - val_loss: 0.0302 - val_accuracy: 0.9922\n",
            "Epoch 16/20\n",
            "25/25 - 41s - loss: 0.0583 - accuracy: 0.9792 - val_loss: 0.0428 - val_accuracy: 0.9688\n",
            "Epoch 17/20\n",
            "25/25 - 40s - loss: 0.0519 - accuracy: 0.9844 - val_loss: 0.2151 - val_accuracy: 0.9609\n",
            "Epoch 18/20\n",
            "25/25 - 43s - loss: 0.0663 - accuracy: 0.9775 - val_loss: 0.0856 - val_accuracy: 0.9766\n",
            "Epoch 19/20\n",
            "25/25 - 40s - loss: 0.0681 - accuracy: 0.9766 - val_loss: 0.2686 - val_accuracy: 0.9453\n",
            "Epoch 20/20\n",
            "25/25 - 40s - loss: 0.0874 - accuracy: 0.9766 - val_loss: 0.0928 - val_accuracy: 0.9531\n"
          ],
          "name": "stdout"
        },
        {
          "output_type": "execute_result",
          "data": {
            "text/plain": [
              "<tensorflow.python.keras.callbacks.History at 0x7f4b42e13c90>"
            ]
          },
          "metadata": {
            "tags": []
          },
          "execution_count": 10
        }
      ]
    },
    {
      "cell_type": "code",
      "metadata": {
        "id": "cL3TfyytoAfo"
      },
      "source": [
        "import matplotlib.pyplot as plt\n",
        "\n",
        "plt.plot(history.history['loss'])\n",
        "plt.plot(history.history['val_loss'])\n",
        "plt.title('model loss')\n",
        "plt.ylabel('loss')\n",
        "plt.xlabel('epoch')\n",
        "plt.legend(['train','test'], loc='upper left')\n",
        "plt.show()"
      ],
      "execution_count": null,
      "outputs": []
    },
    {
      "cell_type": "code",
      "metadata": {
        "id": "RXm6ZU9vofi2"
      },
      "source": [
        "import numpy as np\n",
        "from google.colab import files\n",
        "from keras.preprocessing import image\n",
        "import matplotlib.image as mpimg\n",
        "%matplotlib inline\n",
        "\n",
        "uploaded = files.upload()\n",
        " \n",
        "for fn in uploaded.keys():\n",
        " \n",
        "  # predicting images\n",
        "  path = fn\n",
        "  img = image.load_img(path, target_size=(150,150))\n",
        "  imgplot = plt.imshow(img)\n",
        "  x = image.img_to_array(img)\n",
        "  x = np.expand_dims(x, axis=0)\n",
        " \n",
        "  images = np.vstack([x])\n",
        "  classes = model.predict(images, batch_size=10)\n",
        "  \n",
        "  print(fn)\n",
        "  if classes[0][0]==1:\n",
        "    print('paper')\n",
        "  elif classes[0][1]==1:\n",
        "    print('rock')\n",
        "  elif classes[0][2]==1:\n",
        "    print('scissors')\n",
        "  else:\n",
        "    print('unknown')"
      ],
      "execution_count": null,
      "outputs": []
    },
    {
      "cell_type": "code",
      "metadata": {
        "id": "mQlsi0IvqlrF"
      },
      "source": [
        "score_train = model.evaluate(train_generator, batch_size=5)\n",
        "model.metrics_names\n",
        "score_train"
      ],
      "execution_count": null,
      "outputs": []
    },
    {
      "cell_type": "code",
      "metadata": {
        "id": "O9HKYASOq7Ir"
      },
      "source": [
        "score = model.evaluate(validation_generator, batch_size=5)\n",
        "model.metrics_names\n",
        "score"
      ],
      "execution_count": null,
      "outputs": []
    }
  ]
}